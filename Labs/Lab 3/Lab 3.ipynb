{
 "cells": [
  {
   "cell_type": "markdown",
   "source": [
    "# Lab Three\n",
    "---\n",
    "\n",
    "Ok for this lab we're going to reiterate a lot of the things that we went over in class.\n",
    "\n",
    "Our Goals are:\n",
    "- Understanding Variable Types\n",
    "- Defining Variables\n",
    "- Using Conditionals\n",
    "- Using Loops\n",
    "- Creating Objects\n",
    "- Writing a function\n"
   ],
   "metadata": {}
  },
  {
   "cell_type": "markdown",
   "source": [
    "## What's the difference between Null and undefined?"
   ],
   "metadata": {}
  },
  {
   "cell_type": "markdown",
   "source": [
    "The difference between Null and undefined is that Null is a \"nothing\" that is intentionally put there, while undefined is a \"nothing\" that exists usually due to a mistake in coding."
   ],
   "metadata": {}
  },
  {
   "cell_type": "markdown",
   "source": [
    "## List the 3 Variable Types and Use Them!"
   ],
   "metadata": {}
  },
  {
   "cell_type": "markdown",
   "source": [
    "The three variable types are var, let, and const. Var is the basic variable, and it ignores scope while also being able to be redefined. Let is a variable that is scope bound and thus a variable with the same name cannot be declared within the same scope. Const are constants, and cannot be redefined."
   ],
   "metadata": {}
  },
  {
   "cell_type": "code",
   "execution_count": null,
   "source": [
    "var age = 19;\r\n",
    "let myName = \"Nick F\";\r\n",
    "const color = \"Orange\";\r\n",
    "\r\n",
    "console.log(age);\r\n",
    "console.log(myName);\r\n",
    "console.log(color);"
   ],
   "outputs": [],
   "metadata": {}
  },
  {
   "cell_type": "markdown",
   "source": [
    "## Use an If/Else If/Else Statement and a Switch Case statement"
   ],
   "metadata": {}
  },
  {
   "cell_type": "code",
   "execution_count": null,
   "source": [
    "if (true) {\n",
    "    console.log(\"This is true\");\n",
    "}\n",
    "else if (false) {\n",
    "    console.log(\"This is false\");\n",
    "}\n",
    "else {\n",
    "    console.log(\"How did you get here?\");\n",
    "}\n",
    "\n",
    "let grade = \"B\";\n",
    "switch (grade) {\n",
    "    case \"A\":\n",
    "        console.log(\"You got a great grade!\");\n",
    "        break;\n",
    "    case \"B\":\n",
    "        console.log(\"You got a good grade!\");\n",
    "        break;\n",
    "    case \"C\":\n",
    "        console.log(\"You got an average grade.\");\n",
    "        break;\n",
    "    case \"D\":\n",
    "        console.log(\"You got a subpar grade...\");\n",
    "    case \"F\":\n",
    "        console.log(\"You failed...\");\n",
    "}"
   ],
   "outputs": [],
   "metadata": {}
  },
  {
   "cell_type": "markdown",
   "source": [
    "## Use a For and a While Loop"
   ],
   "metadata": {}
  },
  {
   "cell_type": "code",
   "execution_count": null,
   "source": [
    "var count = 0;\n",
    "for (var i = 0; i < 20; i++) {\n",
    "    count = count + 1;\n",
    "}\n",
    "console.log(count);\n",
    "\n",
    "while (count != 10) {\n",
    "    count -= 1;\n",
    "}\n",
    "console.log(count);"
   ],
   "outputs": [],
   "metadata": {}
  },
  {
   "cell_type": "markdown",
   "source": [
    "## Make an object!"
   ],
   "metadata": {}
  },
  {
   "cell_type": "code",
   "execution_count": null,
   "source": [
    "let pokemon = {\n",
    "    pName: \"Eevee\",\n",
    "    pType: \"Normal\",\n",
    "    pNickname: \"Vee\",\n",
    "    pLevel: 21\n",
    "}\n",
    "\n",
    "console.log(pokemon);"
   ],
   "outputs": [],
   "metadata": {
    "tags": []
   }
  },
  {
   "cell_type": "markdown",
   "source": [
    "## Make a function, It can do anything!"
   ],
   "metadata": {}
  },
  {
   "cell_type": "code",
   "execution_count": null,
   "source": [
    "function wordPrint(word) {\r\n",
    "    console.log(word);\r\n",
    "}\r\n",
    "wordPrint(\"banana\");"
   ],
   "outputs": [],
   "metadata": {}
  },
  {
   "cell_type": "markdown",
   "source": [
    "## Optional: Checkout HackerRank and try a problem in Javascript"
   ],
   "metadata": {}
  }
 ],
 "metadata": {
  "kernelspec": {
   "display_name": "Javascript (Node.js)",
   "language": "javascript",
   "name": "javascript"
  },
  "language_info": {
   "file_extension": ".js",
   "mimetype": "application/javascript",
   "name": "javascript",
   "version": "14.17.6"
  }
 },
 "nbformat": 4,
 "nbformat_minor": 4
}